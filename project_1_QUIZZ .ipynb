{
 "cells": [
  {
   "cell_type": "markdown",
   "metadata": {},
   "source": [
    "### Build a QUIZZ"
   ]
  },
  {
   "cell_type": "markdown",
   "metadata": {},
   "source": [
    "Exercice 3"
   ]
  },
  {
   "cell_type": "markdown",
   "metadata": {},
   "source": [
    "Improve your code : if the user makes 3 wrong answers, the program should stop and print (\"Too bad, you lost the game !\")"
   ]
  },
  {
   "cell_type": "code",
   "execution_count": 1,
   "metadata": {},
   "outputs": [
    {
     "name": "stdout",
     "output_type": "stream",
     "text": [
      "Who is the CEO of Tesla ? kjh\n",
      "Too bad! That is not the correct answer\n",
      "1\n",
      "Who is the CEO of Tesla ? jkg\n",
      "Too bad! That is not the correct answer\n",
      "1\n",
      "Who is the CEO of Tesla ? elon musk\n",
      "Good job ! This is the correct answer !\n",
      "Who is the CEO of Apple ? tim cook\n",
      "Good job ! This is the correct answer !\n",
      "When was Apple created ? 1976\n",
      "Good job ! This is the correct answer !\n",
      "The quizz is over !\n"
     ]
    }
   ],
   "source": [
    "import sys \n",
    "\n",
    "def quizz():\n",
    "    \n",
    "    essai = 0\n",
    "    while essai < 3:\n",
    "        ans = input(\"Who is the CEO of Tesla ? \")\n",
    "        essai +=1\n",
    "        if ans.lower() == \"elon musk\" :\n",
    "            print(\"Good job ! This is the correct answer !\")\n",
    "            break\n",
    "        else:\n",
    "            print(\"Too bad! That is not the correct answer\")\n",
    "            print(essai)\n",
    "    \n",
    "    #if essai == 2 and ans.lower() != \"elon musk\":\n",
    "     #   print(\"Game Over !\")\n",
    "      #  sys.exit(quizz)\n",
    "    \n",
    "        essai = 0\n",
    "    while essai < 3:\n",
    "        ans = input(\"Who is the CEO of Apple ? \")\n",
    "        essai +=1\n",
    "        if ans.lower() == \"tim cook\" :\n",
    "            print(\"Good job ! This is the correct answer !\")\n",
    "            break\n",
    "        else:\n",
    "            essai +=1\n",
    "            print(\"Too bad! That is not the correct answer\")\n",
    "        \n",
    "    essai = 0\n",
    "    while essai < 3:\n",
    "        ans = input(\"When was Apple created ? \")\n",
    "        essai +=1\n",
    "        if ans.lower() == \"1976\" :\n",
    "            print(\"Good job ! This is the correct answer !\")\n",
    "            break\n",
    "        else:\n",
    "            print(\"Too bad! That is not the correct answer\")\n",
    "            print\n",
    "    \n",
    "    print(\"The quizz is over !\")\n",
    "quizz()"
   ]
  },
  {
   "cell_type": "code",
   "execution_count": null,
   "metadata": {},
   "outputs": [],
   "source": []
  }
 ],
 "metadata": {
  "kernelspec": {
   "display_name": "Python 3",
   "language": "python",
   "name": "python3"
  },
  "language_info": {
   "codemirror_mode": {
    "name": "ipython",
    "version": 3
   },
   "file_extension": ".py",
   "mimetype": "text/x-python",
   "name": "python",
   "nbconvert_exporter": "python",
   "pygments_lexer": "ipython3",
   "version": "3.8.3"
  }
 },
 "nbformat": 4,
 "nbformat_minor": 4
}
